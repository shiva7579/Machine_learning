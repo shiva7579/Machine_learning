{
 "cells": [
  {
   "cell_type": "code",
   "execution_count": 1,
   "id": "cd2edd43",
   "metadata": {},
   "outputs": [],
   "source": [
    "import tensorflow as tf\n",
    "from tensorflow.keras.datasets import fashion_mnist\n",
    "(x_train,y_train),(x_test,y_test)=fashion_mnist.load_data()"
   ]
  },
  {
   "cell_type": "code",
   "execution_count": 2,
   "id": "ee62ba9d",
   "metadata": {},
   "outputs": [
    {
     "name": "stdout",
     "output_type": "stream",
     "text": [
      "x_train : (60000, 28, 28)\n",
      "y_train : (60000,)\n",
      "x_test : (10000, 28, 28)\n",
      "y_test : (10000,)\n"
     ]
    }
   ],
   "source": [
    "print(\"x_train :\",x_train.shape)\n",
    "print(\"y_train :\",y_train.shape)\n",
    "print(\"x_test :\",x_test.shape)\n",
    "print(\"y_test :\",y_test.shape)"
   ]
  },
  {
   "cell_type": "code",
   "execution_count": 3,
   "id": "3350a508",
   "metadata": {},
   "outputs": [],
   "source": [
    "x_train=x_train/255.0\n",
    "x_test=x_test/255.0"
   ]
  },
  {
   "cell_type": "code",
   "execution_count": 4,
   "id": "deb0b7b3",
   "metadata": {},
   "outputs": [
    {
     "name": "stdout",
     "output_type": "stream",
     "text": [
      "4\n",
      "4\n"
     ]
    }
   ],
   "source": [
    "#Cnn layer only works with 4dim array\n",
    "import numpy as np\n",
    "x_train=np.expand_dims(x_train,axis=-1)\n",
    "x_test=np.expand_dims(x_test,axis=-1)\n",
    "print(x_train.ndim)\n",
    "print(x_test.ndim)"
   ]
  },
  {
   "cell_type": "code",
   "execution_count": 5,
   "id": "25b700c9",
   "metadata": {},
   "outputs": [],
   "source": [
    "from tensorflow.keras import Sequential\n",
    "from tensorflow.keras.layers import Dense,Flatten,Conv2D,MaxPool2D"
   ]
  },
  {
   "cell_type": "code",
   "execution_count": 6,
   "id": "44161992",
   "metadata": {},
   "outputs": [],
   "source": [
    "CNN_model=Sequential([\n",
    "                      Conv2D(filters=32,kernel_size=(3,3),activation=\"relu\",input_shape=(28,28,1)),\n",
    "                      MaxPool2D((2,2)),\n",
    "                      Conv2D(filters=64,kernel_size=(3,3),activation=\"relu\",input_shape=(28,28,1)),\n",
    "                      MaxPool2D((2,2)),\n",
    "                      Conv2D(filters=128,kernel_size=(3,3),activation=\"relu\",input_shape=(28,28,1)),\n",
    "                      Flatten(),\n",
    "                      Dense(units=64,activation=\"relu\"),\n",
    "                      Dense(units=10,activation=\"softmax\"),\n",
    "                      ])\n",
    "CNN_model.compile(optimizer=\"adam\",loss=\"sparse_categorical_crossentropy\",metrics=[\"accuracy\"])"
   ]
  },
  {
   "cell_type": "code",
   "execution_count": 7,
   "id": "cea802ae",
   "metadata": {},
   "outputs": [
    {
     "name": "stdout",
     "output_type": "stream",
     "text": [
      "Model: \"sequential\"\n",
      "_________________________________________________________________\n",
      " Layer (type)                Output Shape              Param #   \n",
      "=================================================================\n",
      " conv2d (Conv2D)             (None, 26, 26, 32)        320       \n",
      "                                                                 \n",
      " max_pooling2d (MaxPooling2D  (None, 13, 13, 32)       0         \n",
      " )                                                               \n",
      "                                                                 \n",
      " conv2d_1 (Conv2D)           (None, 11, 11, 64)        18496     \n",
      "                                                                 \n",
      " max_pooling2d_1 (MaxPooling  (None, 5, 5, 64)         0         \n",
      " 2D)                                                             \n",
      "                                                                 \n",
      " conv2d_2 (Conv2D)           (None, 3, 3, 128)         73856     \n",
      "                                                                 \n",
      " flatten (Flatten)           (None, 1152)              0         \n",
      "                                                                 \n",
      " dense (Dense)               (None, 64)                73792     \n",
      "                                                                 \n",
      " dense_1 (Dense)             (None, 10)                650       \n",
      "                                                                 \n",
      "=================================================================\n",
      "Total params: 167,114\n",
      "Trainable params: 167,114\n",
      "Non-trainable params: 0\n",
      "_________________________________________________________________\n"
     ]
    }
   ],
   "source": [
    "CNN_model.summary()"
   ]
  },
  {
   "cell_type": "code",
   "execution_count": 8,
   "id": "da468ad8",
   "metadata": {},
   "outputs": [
    {
     "name": "stdout",
     "output_type": "stream",
     "text": [
      "Epoch 1/10\n",
      "1875/1875 - 29s - loss: 0.4728 - accuracy: 0.8258 - val_loss: 0.3658 - val_accuracy: 0.8713 - 29s/epoch - 15ms/step\n",
      "Epoch 2/10\n",
      "1875/1875 - 26s - loss: 0.3042 - accuracy: 0.8885 - val_loss: 0.3183 - val_accuracy: 0.8856 - 26s/epoch - 14ms/step\n",
      "Epoch 3/10\n",
      "1875/1875 - 27s - loss: 0.2615 - accuracy: 0.9031 - val_loss: 0.3174 - val_accuracy: 0.8809 - 27s/epoch - 14ms/step\n",
      "Epoch 4/10\n",
      "1875/1875 - 26s - loss: 0.2286 - accuracy: 0.9151 - val_loss: 0.2817 - val_accuracy: 0.8959 - 26s/epoch - 14ms/step\n",
      "Epoch 5/10\n",
      "1875/1875 - 25s - loss: 0.2033 - accuracy: 0.9242 - val_loss: 0.2715 - val_accuracy: 0.9039 - 25s/epoch - 14ms/step\n",
      "Epoch 6/10\n",
      "1875/1875 - 24s - loss: 0.1813 - accuracy: 0.9318 - val_loss: 0.2572 - val_accuracy: 0.9079 - 24s/epoch - 13ms/step\n",
      "Epoch 7/10\n",
      "1875/1875 - 25s - loss: 0.1658 - accuracy: 0.9370 - val_loss: 0.2691 - val_accuracy: 0.9081 - 25s/epoch - 13ms/step\n",
      "Epoch 8/10\n",
      "1875/1875 - 25s - loss: 0.1463 - accuracy: 0.9455 - val_loss: 0.2712 - val_accuracy: 0.9110 - 25s/epoch - 14ms/step\n",
      "Epoch 9/10\n",
      "1875/1875 - 25s - loss: 0.1318 - accuracy: 0.9503 - val_loss: 0.2832 - val_accuracy: 0.9086 - 25s/epoch - 14ms/step\n",
      "Epoch 10/10\n",
      "1875/1875 - 25s - loss: 0.1191 - accuracy: 0.9545 - val_loss: 0.2742 - val_accuracy: 0.9135 - 25s/epoch - 13ms/step\n"
     ]
    },
    {
     "data": {
      "text/plain": [
       "<keras.callbacks.History at 0x288c0f7aa60>"
      ]
     },
     "execution_count": 8,
     "metadata": {},
     "output_type": "execute_result"
    }
   ],
   "source": [
    "CNN_model.fit(x_train,y_train,validation_data=(x_test,y_test),epochs=10,verbose=2)"
   ]
  },
  {
   "cell_type": "code",
   "execution_count": 9,
   "id": "b650bce7",
   "metadata": {},
   "outputs": [
    {
     "name": "stdout",
     "output_type": "stream",
     "text": [
      "313/313 - 1s - loss: 0.2742 - accuracy: 0.9135 - 1s/epoch - 4ms/step\n"
     ]
    }
   ],
   "source": [
    "test_loss,test_accuracy=CNN_model.evaluate(x_test,y_test,verbose=2)"
   ]
  },
  {
   "cell_type": "code",
   "execution_count": 10,
   "id": "e68f09f9",
   "metadata": {},
   "outputs": [
    {
     "name": "stdout",
     "output_type": "stream",
     "text": [
      "Test_accuracy 0.9135000109672546\n"
     ]
    }
   ],
   "source": [
    "print(\"Test_accuracy\",test_accuracy)"
   ]
  },
  {
   "cell_type": "code",
   "execution_count": 12,
   "id": "c6969285",
   "metadata": {},
   "outputs": [
    {
     "name": "stdout",
     "output_type": "stream",
     "text": [
      "313/313 [==============================] - 1s 4ms/step\n"
     ]
    }
   ],
   "source": [
    "y_pred=CNN_model.predict(x_test)"
   ]
  },
  {
   "cell_type": "code",
   "execution_count": 13,
   "id": "a44096b8",
   "metadata": {},
   "outputs": [],
   "source": [
    "obtained_value=[np.argmax(elements) for elements in y_pred]"
   ]
  },
  {
   "cell_type": "code",
   "execution_count": 16,
   "id": "0b5e2d4d",
   "metadata": {},
   "outputs": [
    {
     "name": "stdout",
     "output_type": "stream",
     "text": [
      "Classification_report: /n               precision    recall  f1-score   support\n",
      "\n",
      "           0       0.86      0.88      0.87      1000\n",
      "           1       0.99      0.98      0.98      1000\n",
      "           2       0.84      0.90      0.87      1000\n",
      "           3       0.92      0.92      0.92      1000\n",
      "           4       0.88      0.83      0.86      1000\n",
      "           5       0.99      0.98      0.98      1000\n",
      "           6       0.75      0.74      0.75      1000\n",
      "           7       0.95      0.98      0.96      1000\n",
      "           8       0.99      0.96      0.98      1000\n",
      "           9       0.97      0.96      0.97      1000\n",
      "\n",
      "    accuracy                           0.91     10000\n",
      "   macro avg       0.91      0.91      0.91     10000\n",
      "weighted avg       0.91      0.91      0.91     10000\n",
      "\n"
     ]
    }
   ],
   "source": [
    "from sklearn.metrics import classification_report\n",
    "print(\"Classification_report: /n\",classification_report(y_test,obtained_value))"
   ]
  },
  {
   "cell_type": "code",
   "execution_count": 18,
   "id": "74c81989",
   "metadata": {},
   "outputs": [],
   "source": [
    "new_trainx=x_train[:3000]\n",
    "new_trainy=y_train[:3000]"
   ]
  },
  {
   "cell_type": "code",
   "execution_count": 20,
   "id": "73edc06f",
   "metadata": {},
   "outputs": [
    {
     "data": {
      "text/plain": [
       "(3000, 28, 28, 1)"
      ]
     },
     "execution_count": 20,
     "metadata": {},
     "output_type": "execute_result"
    }
   ],
   "source": [
    "new_trainx.shape"
   ]
  },
  {
   "cell_type": "code",
   "execution_count": 22,
   "id": "1f2547d6",
   "metadata": {},
   "outputs": [],
   "source": [
    "from tensorflow.keras.preprocessing.image import load_img,ImageDataGenerator\n",
    "from tensorflow.keras.preprocessing import image"
   ]
  },
  {
   "cell_type": "code",
   "execution_count": 23,
   "id": "ae1f7186",
   "metadata": {},
   "outputs": [],
   "source": [
    "datagen=ImageDataGenerator(rotation_range=40,shear_range=0.2,\n",
    "                          height_shift_range=0.3,width_shift_range=0.3,zoom_range=0.5,horizontal_flip=True,fill_mode=\"nearest\")"
   ]
  },
  {
   "cell_type": "code",
   "execution_count": 25,
   "id": "1963bb8c",
   "metadata": {},
   "outputs": [],
   "source": [
    "Augumented_data=datagen.flow(new_trainx,new_trainy,batch_size=40,seed=42)"
   ]
  },
  {
   "cell_type": "markdown",
   "id": "dc20adfb",
   "metadata": {},
   "source": [
    "# Augumented data as validation data"
   ]
  },
  {
   "cell_type": "code",
   "execution_count": 42,
   "id": "35499197",
   "metadata": {},
   "outputs": [],
   "source": [
    "Aug_model=Sequential([\n",
    "                      Conv2D(filters=32,kernel_size=(3,3),activation=\"relu\",input_shape=(28,28,1)),\n",
    "                      MaxPool2D((2,2)),\n",
    "                      Conv2D(filters=64,kernel_size=(3,3),activation=\"relu\",input_shape=(28,28,1)),\n",
    "                      MaxPool2D((2,2)),\n",
    "                      Conv2D(filters=128,kernel_size=(3,3),activation=\"relu\",input_shape=(28,28,1)),\n",
    "                      Flatten(),\n",
    "                      Dense(units=64,activation=\"relu\"),\n",
    "                      Dense(units=10,activation=\"softmax\"),\n",
    "                      ])\n",
    "Aug_model.compile(optimizer=\"adam\",loss=\"sparse_categorical_crossentropy\",metrics=[\"accuracy\"])"
   ]
  },
  {
   "cell_type": "code",
   "execution_count": 43,
   "id": "c8036292",
   "metadata": {},
   "outputs": [
    {
     "name": "stdout",
     "output_type": "stream",
     "text": [
      "Epoch 1/15\n",
      "1875/1875 - 21s - loss: 0.4852 - accuracy: 0.8219 - val_loss: 4.2318 - val_accuracy: 0.2050 - 21s/epoch - 11ms/step\n",
      "Epoch 2/15\n",
      "1875/1875 - 21s - loss: 0.3131 - accuracy: 0.8845 - val_loss: 4.5159 - val_accuracy: 0.2073 - 21s/epoch - 11ms/step\n",
      "Epoch 3/15\n",
      "1875/1875 - 22s - loss: 0.2656 - accuracy: 0.9016 - val_loss: 4.8586 - val_accuracy: 0.2020 - 22s/epoch - 12ms/step\n",
      "Epoch 4/15\n",
      "1875/1875 - 23s - loss: 0.2344 - accuracy: 0.9126 - val_loss: 4.9002 - val_accuracy: 0.1943 - 23s/epoch - 12ms/step\n",
      "Epoch 5/15\n",
      "1875/1875 - 23s - loss: 0.2075 - accuracy: 0.9228 - val_loss: 4.8731 - val_accuracy: 0.2037 - 23s/epoch - 12ms/step\n",
      "Epoch 6/15\n",
      "1875/1875 - 24s - loss: 0.1881 - accuracy: 0.9301 - val_loss: 5.6593 - val_accuracy: 0.1940 - 24s/epoch - 13ms/step\n",
      "Epoch 7/15\n",
      "1875/1875 - 24s - loss: 0.1676 - accuracy: 0.9377 - val_loss: 5.5218 - val_accuracy: 0.2230 - 24s/epoch - 13ms/step\n",
      "Epoch 8/15\n",
      "1875/1875 - 24s - loss: 0.1495 - accuracy: 0.9441 - val_loss: 6.2965 - val_accuracy: 0.2043 - 24s/epoch - 13ms/step\n",
      "Epoch 9/15\n",
      "1875/1875 - 24s - loss: 0.1324 - accuracy: 0.9506 - val_loss: 5.9282 - val_accuracy: 0.2127 - 24s/epoch - 13ms/step\n",
      "Epoch 10/15\n",
      "1875/1875 - 25s - loss: 0.1193 - accuracy: 0.9553 - val_loss: 7.5787 - val_accuracy: 0.1903 - 25s/epoch - 13ms/step\n",
      "Epoch 11/15\n",
      "1875/1875 - 24s - loss: 0.1072 - accuracy: 0.9599 - val_loss: 8.3654 - val_accuracy: 0.2037 - 24s/epoch - 13ms/step\n",
      "Epoch 12/15\n",
      "1875/1875 - 25s - loss: 0.0975 - accuracy: 0.9634 - val_loss: 9.2159 - val_accuracy: 0.2070 - 25s/epoch - 13ms/step\n",
      "Epoch 13/15\n",
      "1875/1875 - 25s - loss: 0.0862 - accuracy: 0.9676 - val_loss: 9.6711 - val_accuracy: 0.1987 - 25s/epoch - 13ms/step\n",
      "Epoch 14/15\n",
      "1875/1875 - 25s - loss: 0.0790 - accuracy: 0.9698 - val_loss: 10.5515 - val_accuracy: 0.2043 - 25s/epoch - 13ms/step\n",
      "Epoch 15/15\n",
      "1875/1875 - 25s - loss: 0.0750 - accuracy: 0.9710 - val_loss: 9.3993 - val_accuracy: 0.2307 - 25s/epoch - 13ms/step\n"
     ]
    }
   ],
   "source": [
    "Aug_model=Aug_model.fit(x_train,y_train,epochs=15,validation_data=Augumented_data,verbose=2)"
   ]
  },
  {
   "cell_type": "code",
   "execution_count": 44,
   "id": "4daa51eb",
   "metadata": {},
   "outputs": [
    {
     "data": {
      "image/png": "[encoded data removed]",
      "text/plain": [
       "<Figure size 640x480 with 1 Axes>"
      ]
     },
     "metadata": {},
     "output_type": "display_data"
    }
   ],
   "source": [
    "import matplotlib.pyplot as plt\n",
    "plt.plot(Aug_model.history['accuracy'],'b')\n",
    "plt.plot(Aug_model.history['val_accuracy'],'r')\n",
    "plt.xlabel(\"epochs\")\n",
    "plt.ylabel(\"Accuracy\")\n",
    "plt.legend([\"Accuracy\",\"Val_Accuracy\"])\n",
    "plt.title(\"Augumented data as validation data\")\n",
    "plt.show()        "
   ]
  },
  {
   "cell_type": "markdown",
   "id": "4362a579",
   "metadata": {},
   "source": [
    "# Augumented data as train data"
   ]
  },
  {
   "cell_type": "code",
   "execution_count": 31,
   "id": "95549ec0",
   "metadata": {},
   "outputs": [],
   "source": [
    "Augg_model=Sequential([\n",
    "                      Conv2D(filters=32,kernel_size=(3,3),activation=\"relu\",input_shape=(28,28,1)),\n",
    "                      MaxPool2D((2,2)),\n",
    "                      Conv2D(filters=64,kernel_size=(3,3),activation=\"relu\",input_shape=(28,28,1)),\n",
    "                      MaxPool2D((2,2)),\n",
    "                      Conv2D(filters=128,kernel_size=(3,3),activation=\"relu\",input_shape=(28,28,1)),\n",
    "                      Flatten(),\n",
    "                      Dense(units=64,activation=\"relu\"),\n",
    "                      Dense(units=10,activation=\"softmax\"),\n",
    "                      ])\n",
    "Augg_model.compile(optimizer=\"adam\",loss=\"sparse_categorical_crossentropy\",metrics=[\"accuracy\"])"
   ]
  },
  {
   "cell_type": "code",
   "execution_count": 33,
   "id": "9d7a04f6",
   "metadata": {},
   "outputs": [
    {
     "name": "stdout",
     "output_type": "stream",
     "text": [
      "Epoch 1/30\n",
      "75/75 - 3s - loss: 1.2280 - accuracy: 0.5457 - val_loss: 1.0306 - val_accuracy: 0.6150 - 3s/epoch - 43ms/step\n",
      "Epoch 2/30\n",
      "75/75 - 3s - loss: 1.2534 - accuracy: 0.5440 - val_loss: 0.9471 - val_accuracy: 0.6547 - 3s/epoch - 42ms/step\n",
      "Epoch 3/30\n",
      "75/75 - 3s - loss: 1.2131 - accuracy: 0.5573 - val_loss: 1.0115 - val_accuracy: 0.6281 - 3s/epoch - 42ms/step\n",
      "Epoch 4/30\n",
      "75/75 - 3s - loss: 1.1821 - accuracy: 0.5607 - val_loss: 0.9282 - val_accuracy: 0.6452 - 3s/epoch - 45ms/step\n",
      "Epoch 5/30\n",
      "75/75 - 3s - loss: 1.1858 - accuracy: 0.5677 - val_loss: 0.9869 - val_accuracy: 0.6486 - 3s/epoch - 44ms/step\n",
      "Epoch 6/30\n",
      "75/75 - 3s - loss: 1.1691 - accuracy: 0.5680 - val_loss: 0.9142 - val_accuracy: 0.6582 - 3s/epoch - 44ms/step\n",
      "Epoch 7/30\n",
      "75/75 - 3s - loss: 1.1325 - accuracy: 0.5713 - val_loss: 0.9440 - val_accuracy: 0.6550 - 3s/epoch - 42ms/step\n",
      "Epoch 8/30\n",
      "75/75 - 3s - loss: 1.1305 - accuracy: 0.5883 - val_loss: 0.9729 - val_accuracy: 0.6385 - 3s/epoch - 41ms/step\n",
      "Epoch 9/30\n",
      "75/75 - 3s - loss: 1.1038 - accuracy: 0.5930 - val_loss: 0.9448 - val_accuracy: 0.6553 - 3s/epoch - 45ms/step\n",
      "Epoch 10/30\n",
      "75/75 - 4s - loss: 1.0907 - accuracy: 0.5997 - val_loss: 0.9878 - val_accuracy: 0.6392 - 4s/epoch - 48ms/step\n",
      "Epoch 11/30\n",
      "75/75 - 3s - loss: 1.0861 - accuracy: 0.5940 - val_loss: 0.8709 - val_accuracy: 0.6675 - 3s/epoch - 46ms/step\n",
      "Epoch 12/30\n",
      "75/75 - 3s - loss: 1.0841 - accuracy: 0.6120 - val_loss: 0.9643 - val_accuracy: 0.6450 - 3s/epoch - 45ms/step\n",
      "Epoch 13/30\n",
      "75/75 - 3s - loss: 1.0912 - accuracy: 0.6010 - val_loss: 0.8276 - val_accuracy: 0.6953 - 3s/epoch - 43ms/step\n",
      "Epoch 14/30\n",
      "75/75 - 3s - loss: 1.0779 - accuracy: 0.5973 - val_loss: 0.8550 - val_accuracy: 0.6772 - 3s/epoch - 42ms/step\n",
      "Epoch 15/30\n",
      "75/75 - 3s - loss: 1.0555 - accuracy: 0.6117 - val_loss: 0.7878 - val_accuracy: 0.7056 - 3s/epoch - 45ms/step\n",
      "Epoch 16/30\n",
      "75/75 - 4s - loss: 1.0285 - accuracy: 0.6243 - val_loss: 0.8531 - val_accuracy: 0.6794 - 4s/epoch - 48ms/step\n",
      "Epoch 17/30\n",
      "75/75 - 3s - loss: 1.0312 - accuracy: 0.6177 - val_loss: 0.8740 - val_accuracy: 0.6827 - 3s/epoch - 46ms/step\n",
      "Epoch 18/30\n",
      "75/75 - 3s - loss: 1.0770 - accuracy: 0.6023 - val_loss: 0.7957 - val_accuracy: 0.6870 - 3s/epoch - 45ms/step\n",
      "Epoch 19/30\n",
      "75/75 - 3s - loss: 1.0487 - accuracy: 0.5997 - val_loss: 0.8184 - val_accuracy: 0.6982 - 3s/epoch - 45ms/step\n",
      "Epoch 20/30\n",
      "75/75 - 3s - loss: 1.0403 - accuracy: 0.6183 - val_loss: 0.8456 - val_accuracy: 0.6797 - 3s/epoch - 43ms/step\n",
      "Epoch 21/30\n",
      "75/75 - 3s - loss: 1.0170 - accuracy: 0.6287 - val_loss: 0.9556 - val_accuracy: 0.6499 - 3s/epoch - 46ms/step\n",
      "Epoch 22/30\n",
      "75/75 - 4s - loss: 1.0153 - accuracy: 0.6293 - val_loss: 0.8719 - val_accuracy: 0.6747 - 4s/epoch - 47ms/step\n",
      "Epoch 23/30\n",
      "75/75 - 3s - loss: 1.0155 - accuracy: 0.6207 - val_loss: 0.8546 - val_accuracy: 0.6835 - 3s/epoch - 46ms/step\n",
      "Epoch 24/30\n",
      "75/75 - 3s - loss: 1.0050 - accuracy: 0.6313 - val_loss: 0.7905 - val_accuracy: 0.7063 - 3s/epoch - 45ms/step\n",
      "Epoch 25/30\n",
      "75/75 - 4s - loss: 1.0126 - accuracy: 0.6283 - val_loss: 0.8970 - val_accuracy: 0.6653 - 4s/epoch - 47ms/step\n",
      "Epoch 26/30\n",
      "75/75 - 4s - loss: 1.0068 - accuracy: 0.6340 - val_loss: 0.8341 - val_accuracy: 0.6829 - 4s/epoch - 51ms/step\n",
      "Epoch 27/30\n",
      "75/75 - 4s - loss: 0.9694 - accuracy: 0.6353 - val_loss: 0.8655 - val_accuracy: 0.6841 - 4s/epoch - 49ms/step\n",
      "Epoch 28/30\n",
      "75/75 - 4s - loss: 0.9708 - accuracy: 0.6393 - val_loss: 0.8322 - val_accuracy: 0.6995 - 4s/epoch - 54ms/step\n",
      "Epoch 29/30\n",
      "75/75 - 5s - loss: 0.9858 - accuracy: 0.6357 - val_loss: 0.8150 - val_accuracy: 0.6927 - 5s/epoch - 62ms/step\n",
      "Epoch 30/30\n",
      "75/75 - 5s - loss: 0.9492 - accuracy: 0.6470 - val_loss: 0.8316 - val_accuracy: 0.6858 - 5s/epoch - 62ms/step\n"
     ]
    }
   ],
   "source": [
    "Augg_model=Augg_model.fit(Augumented_data,epochs=30,validation_data=(x_test,y_test),verbose=2)"
   ]
  },
  {
   "cell_type": "code",
   "execution_count": 45,
   "id": "d632e86c",
   "metadata": {},
   "outputs": [
    {
     "data": {
      "image/png": "[encoded data removed]",
      "text/plain": [
       "<Figure size 640x480 with 1 Axes>"
      ]
     },
     "metadata": {},
     "output_type": "display_data"
    }
   ],
   "source": [
    "import matplotlib.pyplot as plt\n",
    "plt.plot(Augg_model.history['accuracy'],'b')\n",
    "plt.plot(Augg_model.history['val_accuracy'],'r')\n",
    "plt.xlabel(\"epochs\")\n",
    "plt.ylabel(\"Accuracy\")\n",
    "plt.legend([\"Accuracy\",\"Val_Accuracy\"])\n",
    "plt.title(\"Augumented data as train data\")\n",
    "plt.show()                    "
   ]
  },
  {
   "cell_type": "code",
   "execution_count": null,
   "id": "9163b145",
   "metadata": {},
   "outputs": [],
   "source": []
  }
 ],
 "metadata": {
  "kernelspec": {
   "display_name": "Python 3 (ipykernel)",
   "language": "python",
   "name": "python3"
  },
  "language_info": {
   "codemirror_mode": {
    "name": "ipython",
    "version": 3
   },
   "file_extension": ".py",
   "mimetype": "text/x-python",
   "name": "python",
   "nbconvert_exporter": "python",
   "pygments_lexer": "ipython3",
   "version": "3.9.13"
  }
 },
 "nbformat": 4,
 "nbformat_minor": 5
}
