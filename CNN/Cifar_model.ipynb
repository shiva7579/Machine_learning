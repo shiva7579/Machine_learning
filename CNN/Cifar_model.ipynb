{
 "cells": [
  {
   "cell_type": "code",
   "execution_count": 1,
   "id": "7ef8e095",
   "metadata": {},
   "outputs": [],
   "source": [
    "from tensorflow.keras.datasets import cifar10\n",
    "from tensorflow.keras.utils import to_categorical\n",
    "import numpy as np\n",
    "import matplotlib.pyplot as plt"
   ]
  },
  {
   "cell_type": "code",
   "execution_count": 2,
   "id": "0301b64c",
   "metadata": {},
   "outputs": [],
   "source": [
    "(x_train,y_train),(x_test,y_test)=cifar10.load_data()"
   ]
  },
  {
   "cell_type": "code",
   "execution_count": 3,
   "id": "10c6a4f4",
   "metadata": {},
   "outputs": [],
   "source": [
    "x_train=x_train.astype(\"float32\")/255\n",
    "x_test=x_test.astype(\"float32\")/255"
   ]
  },
  {
   "cell_type": "code",
   "execution_count": 4,
   "id": "b0c41fe3",
   "metadata": {},
   "outputs": [
    {
     "data": {
      "text/plain": [
       "(50000, 1)"
      ]
     },
     "execution_count": 4,
     "metadata": {},
     "output_type": "execute_result"
    }
   ],
   "source": [
    "y_train.shape"
   ]
  },
  {
   "cell_type": "code",
   "execution_count": 5,
   "id": "44ebb418",
   "metadata": {},
   "outputs": [],
   "source": [
    "y_train=y_train.reshape(-1,)"
   ]
  },
  {
   "cell_type": "code",
   "execution_count": 12,
   "id": "a9b3f7eb",
   "metadata": {},
   "outputs": [
    {
     "name": "stdout",
     "output_type": "stream",
     "text": [
      "Epoch 1/100\n",
      "500/500 - 13s - loss: 1.5878 - Accuracy: 0.4281 - val_loss: 1.3193 - val_Accuracy: 0.5285 - 13s/epoch - 27ms/step\n",
      "Epoch 2/100\n",
      "500/500 - 13s - loss: 1.2342 - Accuracy: 0.5665 - val_loss: 1.1591 - val_Accuracy: 0.5984 - 13s/epoch - 27ms/step\n",
      "Epoch 3/100\n",
      "500/500 - 12s - loss: 1.0910 - Accuracy: 0.6192 - val_loss: 1.0492 - val_Accuracy: 0.6354 - 12s/epoch - 24ms/step\n",
      "Epoch 4/100\n",
      "500/500 - 13s - loss: 0.9943 - Accuracy: 0.6546 - val_loss: 1.0457 - val_Accuracy: 0.6302 - 13s/epoch - 26ms/step\n",
      "Epoch 5/100\n",
      "500/500 - 13s - loss: 0.9362 - Accuracy: 0.6777 - val_loss: 0.9886 - val_Accuracy: 0.6614 - 13s/epoch - 27ms/step\n",
      "Epoch 6/100\n",
      "500/500 - 13s - loss: 0.8935 - Accuracy: 0.6926 - val_loss: 0.9483 - val_Accuracy: 0.6792 - 13s/epoch - 27ms/step\n",
      "Epoch 7/100\n",
      "500/500 - 14s - loss: 0.8479 - Accuracy: 0.7080 - val_loss: 0.9389 - val_Accuracy: 0.6760 - 14s/epoch - 28ms/step\n",
      "Epoch 8/100\n",
      "500/500 - 13s - loss: 0.8141 - Accuracy: 0.7182 - val_loss: 0.9340 - val_Accuracy: 0.6765 - 13s/epoch - 26ms/step\n",
      "Epoch 9/100\n",
      "500/500 - 12s - loss: 0.7804 - Accuracy: 0.7298 - val_loss: 0.9051 - val_Accuracy: 0.6929 - 12s/epoch - 25ms/step\n",
      "Epoch 10/100\n",
      "500/500 - 14s - loss: 0.7535 - Accuracy: 0.7394 - val_loss: 0.9346 - val_Accuracy: 0.6865 - 14s/epoch - 27ms/step\n",
      "Epoch 11/100\n",
      "500/500 - 13s - loss: 0.7184 - Accuracy: 0.7525 - val_loss: 0.8946 - val_Accuracy: 0.6995 - 13s/epoch - 27ms/step\n",
      "Epoch 12/100\n",
      "500/500 - 14s - loss: 0.6890 - Accuracy: 0.7606 - val_loss: 0.9086 - val_Accuracy: 0.6957 - 14s/epoch - 28ms/step\n",
      "Epoch 13/100\n",
      "500/500 - 14s - loss: 0.6571 - Accuracy: 0.7726 - val_loss: 0.8866 - val_Accuracy: 0.7014 - 14s/epoch - 27ms/step\n",
      "Epoch 14/100\n",
      "500/500 - 14s - loss: 0.6323 - Accuracy: 0.7808 - val_loss: 0.9232 - val_Accuracy: 0.6958 - 14s/epoch - 27ms/step\n",
      "Epoch 15/100\n",
      "500/500 - 14s - loss: 0.6051 - Accuracy: 0.7879 - val_loss: 0.9408 - val_Accuracy: 0.6958 - 14s/epoch - 28ms/step\n",
      "Epoch 16/100\n",
      "500/500 - 13s - loss: 0.5807 - Accuracy: 0.7988 - val_loss: 0.8873 - val_Accuracy: 0.7138 - 13s/epoch - 27ms/step\n",
      "Epoch 17/100\n",
      "500/500 - 14s - loss: 0.5528 - Accuracy: 0.8058 - val_loss: 0.9291 - val_Accuracy: 0.7071 - 14s/epoch - 28ms/step\n",
      "Epoch 18/100\n",
      "500/500 - 14s - loss: 0.5313 - Accuracy: 0.8147 - val_loss: 0.9404 - val_Accuracy: 0.7083 - 14s/epoch - 29ms/step\n",
      "Epoch 19/100\n",
      "500/500 - 13s - loss: 0.5023 - Accuracy: 0.8253 - val_loss: 0.9413 - val_Accuracy: 0.7108 - 13s/epoch - 26ms/step\n",
      "Epoch 20/100\n",
      "500/500 - 12s - loss: 0.4789 - Accuracy: 0.8341 - val_loss: 0.9770 - val_Accuracy: 0.6943 - 12s/epoch - 25ms/step\n",
      "Epoch 21/100\n",
      "500/500 - 13s - loss: 0.4601 - Accuracy: 0.8406 - val_loss: 0.9677 - val_Accuracy: 0.7086 - 13s/epoch - 26ms/step\n"
     ]
    },
    {
     "data": {
      "text/plain": [
       "<keras.callbacks.History at 0x2339611f610>"
      ]
     },
     "execution_count": 12,
     "metadata": {},
     "output_type": "execute_result"
    }
   ],
   "source": [
    "from tensorflow.keras import Sequential\n",
    "from tensorflow.keras.layers import Dense,Flatten,Conv2D,MaxPooling2D\n",
    "from tensorflow.keras.callbacks import EarlyStopping\n",
    "batch_size=100\n",
    "cnn=Sequential([\n",
    "                Conv2D(filters=32,kernel_size=(3,3),activation=\"relu\",input_shape=(32,32,3)),\n",
    "                MaxPooling2D((2,2)),\n",
    "                Conv2D(filters=64,kernel_size=(3,3),activation=\"relu\",input_shape=(32,32,3)),\n",
    "                MaxPooling2D((2,2)),\n",
    "                Flatten(),\n",
    "                Dense(units=64,activation=\"relu\"),\n",
    "                Dense(units=10,activation=\"softmax\")\n",
    "               ])\n",
    "cnn.compile(optimizer=\"Adam\",loss=\"sparse_categorical_crossentropy\",metrics=[\"Accuracy\"])\n",
    "cnn.fit(x_train,y_train,epochs=100,batch_size=batch_size,\n",
    "        callbacks=EarlyStopping(monitor=\"Accuracy\",patience=20),validation_data=(x_test,y_test),verbose=2)"
   ]
  },
  {
   "cell_type": "code",
   "execution_count": 13,
   "id": "c335c23f",
   "metadata": {},
   "outputs": [],
   "source": [
    "#Model is overfitted. We can see that though the accuracy of model is increasing but the val_accuracy has not increased.\n",
    "# No. of epochs can be decreased."
   ]
  },
  {
   "cell_type": "code",
   "execution_count": 14,
   "id": "7a417280",
   "metadata": {},
   "outputs": [
    {
     "name": "stdout",
     "output_type": "stream",
     "text": [
      "313/313 [==============================] - 2s 6ms/step\n"
     ]
    }
   ],
   "source": [
    "y_pred=cnn.predict(x_test)"
   ]
  },
  {
   "cell_type": "code",
   "execution_count": 15,
   "id": "8d5ba917",
   "metadata": {},
   "outputs": [],
   "source": [
    "y_identify=[np.argmax(elements) for elements in y_pred]"
   ]
  },
  {
   "cell_type": "code",
   "execution_count": 16,
   "id": "6003ebcd",
   "metadata": {},
   "outputs": [],
   "source": [
    "from sklearn.metrics import accuracy_score,classification_report"
   ]
  },
  {
   "cell_type": "code",
   "execution_count": 17,
   "id": "b7928044",
   "metadata": {},
   "outputs": [
    {
     "name": "stdout",
     "output_type": "stream",
     "text": [
      "Classification_report : \n",
      "               precision    recall  f1-score   support\n",
      "\n",
      "           0       0.72      0.76      0.74      1000\n",
      "           1       0.80      0.84      0.82      1000\n",
      "           2       0.64      0.59      0.62      1000\n",
      "           3       0.52      0.52      0.52      1000\n",
      "           4       0.65      0.67      0.66      1000\n",
      "           5       0.64      0.59      0.61      1000\n",
      "           6       0.81      0.76      0.78      1000\n",
      "           7       0.69      0.79      0.74      1000\n",
      "           8       0.83      0.80      0.82      1000\n",
      "           9       0.79      0.76      0.77      1000\n",
      "\n",
      "    accuracy                           0.71     10000\n",
      "   macro avg       0.71      0.71      0.71     10000\n",
      "weighted avg       0.71      0.71      0.71     10000\n",
      "\n"
     ]
    }
   ],
   "source": [
    "print(\"Classification_report : \\n\",classification_report(y_test,y_identify))"
   ]
  },
  {
   "cell_type": "code",
   "execution_count": 18,
   "id": "81604bab",
   "metadata": {},
   "outputs": [
    {
     "data": {
      "text/plain": [
       "array([4.5020338e-03, 4.6022384e-07, 1.4595877e-03, 8.0511332e-01,\n",
       "       4.3550313e-05, 1.6828415e-01, 1.9185115e-02, 1.3337386e-05,\n",
       "       1.1250196e-03, 2.7336829e-04], dtype=float32)"
      ]
     },
     "execution_count": 18,
     "metadata": {},
     "output_type": "execute_result"
    }
   ],
   "source": [
    "y_pred[0]"
   ]
  },
  {
   "cell_type": "code",
   "execution_count": 19,
   "id": "3232eca6",
   "metadata": {},
   "outputs": [
    {
     "data": {
      "text/plain": [
       "3"
      ]
     },
     "execution_count": 19,
     "metadata": {},
     "output_type": "execute_result"
    }
   ],
   "source": [
    "np.argmax(y_pred[0])"
   ]
  },
  {
   "cell_type": "code",
   "execution_count": null,
   "id": "f42aa816",
   "metadata": {},
   "outputs": [],
   "source": []
  }
 ],
 "metadata": {
  "kernelspec": {
   "display_name": "Python 3 (ipykernel)",
   "language": "python",
   "name": "python3"
  },
  "language_info": {
   "codemirror_mode": {
    "name": "ipython",
    "version": 3
   },
   "file_extension": ".py",
   "mimetype": "text/x-python",
   "name": "python",
   "nbconvert_exporter": "python",
   "pygments_lexer": "ipython3",
   "version": "3.9.13"
  }
 },
 "nbformat": 4,
 "nbformat_minor": 5
}
