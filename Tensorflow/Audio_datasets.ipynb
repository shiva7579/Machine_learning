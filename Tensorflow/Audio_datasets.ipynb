{
 "cells": [
  {
   "cell_type": "code",
   "execution_count": 1,
   "id": "2b7ceb36",
   "metadata": {},
   "outputs": [],
   "source": [
    "import numpy as np\n",
    "from sklearn.preprocessing import scale"
   ]
  },
  {
   "cell_type": "code",
   "execution_count": 2,
   "id": "de1e6220",
   "metadata": {},
   "outputs": [],
   "source": [
    "dataset=np.loadtxt(\"Audiobooks-data.csv\",delimiter=',')"
   ]
  },
  {
   "cell_type": "code",
   "execution_count": 3,
   "id": "36863f07",
   "metadata": {},
   "outputs": [],
   "source": [
    "input_dataset=dataset[:,1:-1]\n",
    "target_dataset=dataset[:,-1]"
   ]
  },
  {
   "cell_type": "code",
   "execution_count": 4,
   "id": "d8c007b4",
   "metadata": {},
   "outputs": [
    {
     "data": {
      "text/plain": [
       "array([1., 1., 1., ..., 0., 0., 0.])"
      ]
     },
     "execution_count": 4,
     "metadata": {},
     "output_type": "execute_result"
    }
   ],
   "source": [
    "target_dataset"
   ]
  },
  {
   "cell_type": "code",
   "execution_count": 5,
   "id": "57b6c1c8",
   "metadata": {},
   "outputs": [
    {
     "data": {
      "text/plain": [
       "2237"
      ]
     },
     "execution_count": 5,
     "metadata": {},
     "output_type": "execute_result"
    }
   ],
   "source": [
    "num_one_targets=int(np.sum(target_dataset))\n",
    "num_one_targets"
   ]
  },
  {
   "cell_type": "code",
   "execution_count": 6,
   "id": "9b840edd",
   "metadata": {},
   "outputs": [
    {
     "data": {
      "text/plain": [
       "14084"
      ]
     },
     "execution_count": 6,
     "metadata": {},
     "output_type": "execute_result"
    }
   ],
   "source": [
    "target_dataset.shape[0]"
   ]
  },
  {
   "cell_type": "code",
   "execution_count": 7,
   "id": "ff72db55",
   "metadata": {},
   "outputs": [],
   "source": [
    "zero_targets_counter=0\n",
    "indices_to_remove=[]"
   ]
  },
  {
   "cell_type": "code",
   "execution_count": 8,
   "id": "0d6625a6",
   "metadata": {},
   "outputs": [],
   "source": [
    "for i in range(target_dataset.shape[0]):\n",
    "    if target_dataset[i]==0:\n",
    "        zero_targets_counter+=1\n",
    "        if zero_targets_counter>num_one_targets:\n",
    "            indices_to_remove.append(i)"
   ]
  },
  {
   "cell_type": "code",
   "execution_count": 9,
   "id": "bd1c78ff",
   "metadata": {},
   "outputs": [],
   "source": [
    "balanced_input_data=np.delete(input_dataset,indices_to_remove,axis=0)\n",
    "balanced_target_data=np.delete(target_dataset,indices_to_remove,axis=0)"
   ]
  },
  {
   "cell_type": "code",
   "execution_count": 10,
   "id": "9c71b9f5",
   "metadata": {},
   "outputs": [
    {
     "data": {
      "text/plain": [
       "array([1., 1., 1., ..., 0., 0., 0.])"
      ]
     },
     "execution_count": 10,
     "metadata": {},
     "output_type": "execute_result"
    }
   ],
   "source": [
    "balanced_target_data"
   ]
  },
  {
   "cell_type": "code",
   "execution_count": 11,
   "id": "a5346070",
   "metadata": {},
   "outputs": [
    {
     "data": {
      "text/plain": [
       "4474"
      ]
     },
     "execution_count": 11,
     "metadata": {},
     "output_type": "execute_result"
    }
   ],
   "source": [
    "balanced_input_data.shape[0]"
   ]
  },
  {
   "cell_type": "code",
   "execution_count": 12,
   "id": "feddb051",
   "metadata": {},
   "outputs": [],
   "source": [
    "scaled_input_data=scale(balanced_input_data)"
   ]
  },
  {
   "cell_type": "code",
   "execution_count": 13,
   "id": "6f27d50a",
   "metadata": {},
   "outputs": [
    {
     "data": {
      "text/plain": [
       "array([   0,    1,    2, ..., 4471, 4472, 4473])"
      ]
     },
     "execution_count": 13,
     "metadata": {},
     "output_type": "execute_result"
    }
   ],
   "source": [
    "shufled_indices=np.arange(scaled_input_data.shape[0])\n",
    "shufled_indices"
   ]
  },
  {
   "cell_type": "code",
   "execution_count": 14,
   "id": "d21a9331",
   "metadata": {},
   "outputs": [
    {
     "data": {
      "text/plain": [
       "array([3384, 1766, 2971, ...,  279,   36,  418])"
      ]
     },
     "execution_count": 14,
     "metadata": {},
     "output_type": "execute_result"
    }
   ],
   "source": [
    "np.random.shuffle(shufled_indices)\n",
    "shufled_indices"
   ]
  },
  {
   "cell_type": "code",
   "execution_count": 15,
   "id": "c8826cd3",
   "metadata": {},
   "outputs": [
    {
     "data": {
      "text/plain": [
       "array([[ 1.18956512,  0.36398846, -0.32011072, ...,  0.87479777,\n",
       "        -0.20536617,  1.54822135],\n",
       "       [ 1.18956512,  0.36398846, -0.38189654, ..., -0.8635056 ,\n",
       "        -0.20536617,  0.37726085],\n",
       "       [-1.8500202 , -1.37306153,  0.20727535, ...,  1.01827678,\n",
       "        -0.20536617, -0.77240946],\n",
       "       ...,\n",
       "       [ 0.64678203,  2.22511345, -0.38189654, ...,  0.49402656,\n",
       "        -0.20536617, -0.77240946],\n",
       "       [ 0.10399894, -0.25638654, -0.38189654, ..., -0.8635056 ,\n",
       "        -0.20536617, -0.77240946],\n",
       "       [-0.76445401,  1.97696345,  1.3834125 , ..., -0.42203173,\n",
       "        -0.20536617,  1.73983307]])"
      ]
     },
     "execution_count": 15,
     "metadata": {},
     "output_type": "execute_result"
    }
   ],
   "source": [
    "shuffled_input_dataset=scaled_input_data[shufled_indices]\n",
    "shuffled_target_dataset=balanced_target_data[shufled_indices]\n",
    "shuffled_input_dataset"
   ]
  },
  {
   "cell_type": "code",
   "execution_count": 16,
   "id": "b2288f49",
   "metadata": {},
   "outputs": [
    {
     "name": "stdout",
     "output_type": "stream",
     "text": [
      "3579\n",
      "447\n",
      "448\n"
     ]
    }
   ],
   "source": [
    "count_samples=int(shuffled_input_dataset.shape[0])\n",
    "num_train_samples=int(0.8*count_samples)\n",
    "num_validation_samples=int(0.1*count_samples)\n",
    "num_test_samples=int(0.1*count_samples)\n",
    "\n",
    "train_inputs=shuffled_input_dataset[:num_train_samples]\n",
    "train_targets=shuffled_target_dataset[:num_train_samples]\n",
    "\n",
    "validation_inputs=shuffled_input_dataset[num_train_samples:num_train_samples+num_validation_samples]\n",
    "validation_targets=shuffled_target_dataset[num_train_samples:num_train_samples+num_validation_samples]\n",
    "\n",
    "test_inputs=shuffled_input_dataset[num_train_samples+num_validation_samples:]\n",
    "test_targets=shuffled_target_dataset[num_train_samples+num_validation_samples:]\n",
    "\n",
    "print(train_inputs.shape[0])\n",
    "print(validation_inputs.shape[0])\n",
    "print(test_inputs.shape[0])"
   ]
  },
  {
   "cell_type": "code",
   "execution_count": 17,
   "id": "d6377176",
   "metadata": {},
   "outputs": [],
   "source": [
    "np.savez(\"Audiobooks_data_train\",inputs=train_inputs,targets=train_targets)\n",
    "np.savez(\"Audiobooks_data_validation\",inputs=validation_inputs,targets=validation_targets)\n",
    "np.savez(\"Audiobooks_data_test\",inputs=test_inputs,targets=test_targets)"
   ]
  },
  {
   "cell_type": "code",
   "execution_count": 18,
   "id": "11d6f5d8",
   "metadata": {},
   "outputs": [],
   "source": [
    "import tensorflow as tf\n",
    "from tensorflow.keras import Sequential\n",
    "from tensorflow.keras.layers import Dense,Flatten\n",
    "from tensorflow.keras.optimizers import Adam\n",
    "from tensorflow.keras.losses import sparse_categorical_crossentropy\n",
    "from tensorflow.keras.callbacks import EarlyStopping"
   ]
  },
  {
   "cell_type": "code",
   "execution_count": 19,
   "id": "7b9ce3a9",
   "metadata": {},
   "outputs": [
    {
     "name": "stdout",
     "output_type": "stream",
     "text": [
      "Epoch 1/50\n",
      "36/36 - 2s - loss: 0.5521 - accuracy: 0.7508 - val_loss: 0.4242 - val_accuracy: 0.8658 - 2s/epoch - 49ms/step\n",
      "Epoch 2/50\n",
      "36/36 - 0s - loss: 0.3777 - accuracy: 0.8695 - val_loss: 0.3385 - val_accuracy: 0.8725 - 285ms/epoch - 8ms/step\n",
      "Epoch 3/50\n",
      "36/36 - 0s - loss: 0.3248 - accuracy: 0.8782 - val_loss: 0.3146 - val_accuracy: 0.8792 - 248ms/epoch - 7ms/step\n",
      "Epoch 4/50\n",
      "36/36 - 0s - loss: 0.3032 - accuracy: 0.8835 - val_loss: 0.3037 - val_accuracy: 0.8814 - 265ms/epoch - 7ms/step\n",
      "Epoch 5/50\n",
      "36/36 - 0s - loss: 0.2891 - accuracy: 0.8877 - val_loss: 0.2910 - val_accuracy: 0.8904 - 273ms/epoch - 8ms/step\n",
      "Epoch 6/50\n",
      "36/36 - 0s - loss: 0.2788 - accuracy: 0.8921 - val_loss: 0.2848 - val_accuracy: 0.8926 - 278ms/epoch - 8ms/step\n",
      "Epoch 7/50\n",
      "36/36 - 0s - loss: 0.2743 - accuracy: 0.8938 - val_loss: 0.2832 - val_accuracy: 0.8926 - 270ms/epoch - 8ms/step\n",
      "Epoch 8/50\n",
      "36/36 - 0s - loss: 0.2665 - accuracy: 0.8975 - val_loss: 0.2779 - val_accuracy: 0.8949 - 261ms/epoch - 7ms/step\n",
      "Epoch 9/50\n",
      "36/36 - 0s - loss: 0.2614 - accuracy: 0.9000 - val_loss: 0.2761 - val_accuracy: 0.8949 - 276ms/epoch - 8ms/step\n",
      "Epoch 10/50\n",
      "36/36 - 0s - loss: 0.2573 - accuracy: 0.9014 - val_loss: 0.2763 - val_accuracy: 0.8949 - 280ms/epoch - 8ms/step\n",
      "Epoch 11/50\n",
      "36/36 - 0s - loss: 0.2556 - accuracy: 0.9036 - val_loss: 0.2716 - val_accuracy: 0.8949 - 271ms/epoch - 8ms/step\n"
     ]
    }
   ],
   "source": [
    "input_layer=10\n",
    "output_layers=2\n",
    "hidden_layers=50\n",
    "model=Sequential([\n",
    "                 Dense(units=hidden_layers,activation=\"relu\"),\n",
    "                 Dense(units=hidden_layers,activation=\"relu\"),\n",
    "                 Dense(units=output_layers,activation=\"softmax\")\n",
    "                 ])\n",
    "batch_size=100\n",
    "max_epochs=50\n",
    "model.compile(optimizer=\"Adam\",loss=\"sparse_categorical_crossentropy\",metrics=[\"accuracy\"])\n",
    "history=model.fit(train_inputs,train_targets,batch_size=batch_size,epochs=max_epochs,\n",
    "                  callbacks=EarlyStopping(monitor=\"val_accuracy\",patience=3),\n",
    "          validation_data=(validation_inputs,validation_targets),verbose=2)"
   ]
  },
  {
   "cell_type": "code",
   "execution_count": 20,
   "id": "d369ae3f",
   "metadata": {},
   "outputs": [
    {
     "data": {
      "image/png": "[encoded data removed]",
      "text/plain": [
       "<Figure size 640x480 with 1 Axes>"
      ]
     },
     "metadata": {},
     "output_type": "display_data"
    }
   ],
   "source": [
    "import matplotlib.pyplot as plt\n",
    "plt.plot(history.history['accuracy'],label=\"train\")\n",
    "plt.plot(history.history['val_accuracy'],label=\"test\")\n",
    "plt.legend()\n",
    "plt.show()"
   ]
  },
  {
   "cell_type": "code",
   "execution_count": 21,
   "id": "1a3b53cd",
   "metadata": {},
   "outputs": [],
   "source": [
    "# from mlxtend.plotting import plot_decision_regions\n",
    "# plot_decision_regions(test_inputs,test_targets.ravel(),clf=model,legend=2)\n",
    "# plt.show()"
   ]
  },
  {
   "cell_type": "code",
   "execution_count": 22,
   "id": "4ecbc44b",
   "metadata": {},
   "outputs": [
    {
     "name": "stdout",
     "output_type": "stream",
     "text": [
      "14/14 [==============================] - 0s 4ms/step - loss: 0.2112 - accuracy: 0.9308\n",
      "test_accuracy 0.9308035969734192\n",
      "test_loss 0.2112375646829605\n"
     ]
    }
   ],
   "source": [
    "test_loss,test_accuracy=model.evaluate(test_inputs,test_targets)\n",
    "print(\"test_accuracy\",test_accuracy)\n",
    "print(\"test_loss\",test_loss)"
   ]
  },
  {
   "cell_type": "code",
   "execution_count": null,
   "id": "5383488f",
   "metadata": {},
   "outputs": [],
   "source": []
  },
  {
   "cell_type": "code",
   "execution_count": null,
   "id": "c2f067b5",
   "metadata": {},
   "outputs": [],
   "source": []
  },
  {
   "cell_type": "code",
   "execution_count": null,
   "id": "d6a7179a",
   "metadata": {},
   "outputs": [],
   "source": []
  },
  {
   "cell_type": "code",
   "execution_count": null,
   "id": "6c52c498",
   "metadata": {},
   "outputs": [],
   "source": []
  }
 ],
 "metadata": {
  "kernelspec": {
   "display_name": "Python 3 (ipykernel)",
   "language": "python",
   "name": "python3"
  },
  "language_info": {
   "codemirror_mode": {
    "name": "ipython",
    "version": 3
   },
   "file_extension": ".py",
   "mimetype": "text/x-python",
   "name": "python",
   "nbconvert_exporter": "python",
   "pygments_lexer": "ipython3",
   "version": "3.9.13"
  }
 },
 "nbformat": 4,
 "nbformat_minor": 5
}
