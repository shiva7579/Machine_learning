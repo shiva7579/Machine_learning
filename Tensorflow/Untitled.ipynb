{
 "cells": [
  {
   "cell_type": "code",
   "execution_count": 2,
   "id": "c317def3",
   "metadata": {},
   "outputs": [],
   "source": [
    "import pandas as pd\n",
    "import numpy as np\n",
    "import tensorflow as tf\n",
    "import tensorflow_datasets as tfds"
   ]
  },
  {
   "cell_type": "code",
   "execution_count": 3,
   "id": "ca644f6b",
   "metadata": {},
   "outputs": [
    {
     "data": {
      "text/plain": [
       "{'train': <PrefetchDataset element_spec=(TensorSpec(shape=(28, 28, 1), dtype=tf.uint8, name=None), TensorSpec(shape=(), dtype=tf.int64, name=None))>,\n",
       " 'test': <PrefetchDataset element_spec=(TensorSpec(shape=(28, 28, 1), dtype=tf.uint8, name=None), TensorSpec(shape=(), dtype=tf.int64, name=None))>}"
      ]
     },
     "execution_count": 3,
     "metadata": {},
     "output_type": "execute_result"
    }
   ],
   "source": [
    "mnist_data,mnist_info=tfds.load(name=\"mnist\",with_info=True,as_supervised=True)\n",
    "mnist_data"
   ]
  },
  {
   "cell_type": "code",
   "execution_count": 4,
   "id": "c8871c60",
   "metadata": {},
   "outputs": [
    {
     "data": {
      "text/plain": [
       "<tf.Tensor: shape=(), dtype=int64, numpy=6000>"
      ]
     },
     "execution_count": 4,
     "metadata": {},
     "output_type": "execute_result"
    }
   ],
   "source": [
    "train_data,test_data=mnist_data['train'],mnist_data['test']\n",
    "cross_validation_data=0.1*mnist_info.splits[\"train\"].num_examples\n",
    "cross_validation_data=tf.cast(cross_validation_data,tf.int64)\n",
    "cross_validation_data"
   ]
  },
  {
   "cell_type": "code",
   "execution_count": 5,
   "id": "121c827e",
   "metadata": {},
   "outputs": [],
   "source": [
    "test_data=mnist_info.splits[\"test\"].num_examples\n",
    "test_data=tf.cast(test_data,tf.int64)"
   ]
  },
  {
   "cell_type": "code",
   "execution_count": 6,
   "id": "f411d836",
   "metadata": {},
   "outputs": [],
   "source": [
    "def scale(image,label):\n",
    "    image=tf.cast(image,tf.float64)\n",
    "    image /= 255.\n",
    "    return image,label"
   ]
  },
  {
   "cell_type": "code",
   "execution_count": null,
   "id": "c5bb0d3e",
   "metadata": {},
   "outputs": [],
   "source": [
    "scaled_train_and_validation_data=train_data.map(scale)"
   ]
  }
 ],
 "metadata": {
  "kernelspec": {
   "display_name": "Python 3 (ipykernel)",
   "language": "python",
   "name": "python3"
  },
  "language_info": {
   "codemirror_mode": {
    "name": "ipython",
    "version": 3
   },
   "file_extension": ".py",
   "mimetype": "text/x-python",
   "name": "python",
   "nbconvert_exporter": "python",
   "pygments_lexer": "ipython3",
   "version": "3.9.13"
  }
 },
 "nbformat": 4,
 "nbformat_minor": 5
}
