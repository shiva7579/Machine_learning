{
 "cells": [
  {
   "cell_type": "code",
   "execution_count": 2,
   "id": "62b395a8",
   "metadata": {},
   "outputs": [],
   "source": [
    "import tensorflow as tf\n",
    "import numpy as np\n",
    "import tensorflow_datasets as tfds"
   ]
  },
  {
   "cell_type": "code",
   "execution_count": 3,
   "id": "8f65999e",
   "metadata": {},
   "outputs": [
    {
     "data": {
      "text/plain": [
       "{'train': <PrefetchDataset element_spec=(TensorSpec(shape=(28, 28, 1), dtype=tf.uint8, name=None), TensorSpec(shape=(), dtype=tf.int64, name=None))>,\n",
       " 'test': <PrefetchDataset element_spec=(TensorSpec(shape=(28, 28, 1), dtype=tf.uint8, name=None), TensorSpec(shape=(), dtype=tf.int64, name=None))>}"
      ]
     },
     "execution_count": 3,
     "metadata": {},
     "output_type": "execute_result"
    }
   ],
   "source": [
    "mnist_dataset,mnist_info=tfds.load(name=\"mnist\",with_info=True,as_supervised=True)\n",
    "mnist_dataset"
   ]
  },
  {
   "cell_type": "code",
   "execution_count": 4,
   "id": "82580756",
   "metadata": {},
   "outputs": [
    {
     "data": {
      "text/plain": [
       "<tf.Tensor: shape=(), dtype=int64, numpy=6000>"
      ]
     },
     "execution_count": 4,
     "metadata": {},
     "output_type": "execute_result"
    }
   ],
   "source": [
    "mnist_train,mnist_test=mnist_dataset[\"train\"],mnist_dataset[\"test\"]\n",
    "num_validation_samples=0.1*mnist_info.splits['train'].num_examples\n",
    "num_validation_samples=tf.cast(num_validation_samples,tf.int64)\n",
    "num_validation_samples"
   ]
  },
  {
   "cell_type": "code",
   "execution_count": 5,
   "id": "eed616ac",
   "metadata": {},
   "outputs": [
    {
     "data": {
      "text/plain": [
       "10000"
      ]
     },
     "execution_count": 5,
     "metadata": {},
     "output_type": "execute_result"
    }
   ],
   "source": [
    "num_test_samples=mnist_info.splits['test'].num_examples\n",
    "num_test_samples"
   ]
  },
  {
   "cell_type": "code",
   "execution_count": 6,
   "id": "f35848d9",
   "metadata": {},
   "outputs": [
    {
     "data": {
      "text/plain": [
       "<tf.Tensor: shape=(), dtype=int64, numpy=10000>"
      ]
     },
     "execution_count": 6,
     "metadata": {},
     "output_type": "execute_result"
    }
   ],
   "source": [
    "num_test_samples=tf.cast(num_test_samples,tf.int64)\n",
    "num_test_samples"
   ]
  },
  {
   "cell_type": "code",
   "execution_count": 9,
   "id": "9dfe15ea",
   "metadata": {},
   "outputs": [],
   "source": [
    "#standardization\n",
    "def scale(image,label):\n",
    "    image=tf.cast(image,tf.float32)\n",
    "    image /=255.\n",
    "    return image,label"
   ]
  },
  {
   "cell_type": "code",
   "execution_count": 10,
   "id": "26914a01",
   "metadata": {},
   "outputs": [],
   "source": [
    "scaled_train_and_validation_data=mnist_train.map(scale)\n",
    "test_data=mnist_test.map(scale)"
   ]
  },
  {
   "cell_type": "code",
   "execution_count": 11,
   "id": "5eccdf85",
   "metadata": {},
   "outputs": [],
   "source": [
    "#shuffling_of data\n",
    "Buffer_size=10000\n",
    "shuffled_train_and_validation_data=scaled_train_and_validation_data.shuffle(Buffer_size)"
   ]
  },
  {
   "cell_type": "code",
   "execution_count": 14,
   "id": "4735790d",
   "metadata": {},
   "outputs": [],
   "source": [
    "validation_data=shuffled_train_and_validation_data.take(num_validation_samples)\n",
    "train_data=shuffled_train_and_validation_data.skip(num_validation_samples)"
   ]
  },
  {
   "cell_type": "code",
   "execution_count": 15,
   "id": "e38c4a8e",
   "metadata": {},
   "outputs": [],
   "source": [
    "# Batching\n",
    "Batch_size=100\n",
    "train_data=train_data.batch(Batch_size)\n",
    "validation_data=validation_data.batch(num_validation_samples)\n",
    "test_data=test_data.batch(num_test_samples)"
   ]
  },
  {
   "cell_type": "code",
   "execution_count": 16,
   "id": "7d6be32f",
   "metadata": {},
   "outputs": [],
   "source": [
    "validation_inputs,validation_targets=next(iter(validation_data))"
   ]
  },
  {
   "cell_type": "code",
   "execution_count": 17,
   "id": "454d2565",
   "metadata": {},
   "outputs": [],
   "source": [
    "##outline the model"
   ]
  },
  {
   "cell_type": "code",
   "execution_count": 19,
   "id": "2e812b77",
   "metadata": {},
   "outputs": [],
   "source": [
    "from tensorflow.keras import Sequential\n",
    "from tensorflow.keras.layers import Flatten\n",
    "from tensorflow.keras.layers import Dense\n",
    "from tensorflow.keras.optimizers import Adam\n",
    "from tensorflow.keras.losses import sparse_categorical_crossentropy"
   ]
  },
  {
   "cell_type": "code",
   "execution_count": 46,
   "id": "a15cda9e",
   "metadata": {},
   "outputs": [],
   "source": [
    "input_size=784\n",
    "output_size=10\n",
    "hidden_layer_size=200\n",
    "model=Sequential([\n",
    "                 Flatten(input_shape=(28,28,1)),\n",
    "                 Dense(units=hidden_layer_size,activation=\"relu\"),\n",
    "                 Dense(units=hidden_layer_size,activation=\"relu\"),\n",
    "#                  Dense(units=hidden_layer_size,activation=\"relu\"),\n",
    "                 Dense(units=output_size,activation=\"softmax\")\n",
    "                 ])\n",
    "model.compile(optimizer=\"Adam\",loss=\"sparse_categorical_crossentropy\",metrics=[\"accuracy\"])"
   ]
  },
  {
   "cell_type": "code",
   "execution_count": 49,
   "id": "398273ac",
   "metadata": {},
   "outputs": [
    {
     "name": "stdout",
     "output_type": "stream",
     "text": [
      "Epoch 1/10\n",
      "540/540 - 3s - loss: 0.0313 - accuracy: 0.9900 - val_loss: 0.0433 - val_accuracy: 0.9863 - 3s/epoch - 5ms/step\n",
      "Epoch 2/10\n",
      "540/540 - 3s - loss: 0.0257 - accuracy: 0.9916 - val_loss: 0.0375 - val_accuracy: 0.9893 - 3s/epoch - 5ms/step\n",
      "Epoch 3/10\n",
      "540/540 - 2s - loss: 0.0225 - accuracy: 0.9927 - val_loss: 0.0349 - val_accuracy: 0.9887 - 2s/epoch - 4ms/step\n",
      "Epoch 4/10\n",
      "540/540 - 2s - loss: 0.0167 - accuracy: 0.9949 - val_loss: 0.0252 - val_accuracy: 0.9935 - 2s/epoch - 5ms/step\n",
      "Epoch 5/10\n",
      "540/540 - 3s - loss: 0.0158 - accuracy: 0.9948 - val_loss: 0.0230 - val_accuracy: 0.9918 - 3s/epoch - 5ms/step\n",
      "Epoch 6/10\n",
      "540/540 - 3s - loss: 0.0149 - accuracy: 0.9953 - val_loss: 0.0190 - val_accuracy: 0.9937 - 3s/epoch - 5ms/step\n",
      "Epoch 7/10\n",
      "540/540 - 2s - loss: 0.0132 - accuracy: 0.9956 - val_loss: 0.0158 - val_accuracy: 0.9955 - 2s/epoch - 4ms/step\n",
      "Epoch 8/10\n",
      "540/540 - 2s - loss: 0.0127 - accuracy: 0.9957 - val_loss: 0.0282 - val_accuracy: 0.9918 - 2s/epoch - 4ms/step\n",
      "Epoch 9/10\n",
      "540/540 - 2s - loss: 0.0127 - accuracy: 0.9959 - val_loss: 0.0158 - val_accuracy: 0.9953 - 2s/epoch - 4ms/step\n",
      "Epoch 10/10\n",
      "540/540 - 2s - loss: 0.0122 - accuracy: 0.9962 - val_loss: 0.0160 - val_accuracy: 0.9943 - 2s/epoch - 4ms/step\n"
     ]
    },
    {
     "data": {
      "text/plain": [
       "<keras.callbacks.History at 0x1e7eab14d90>"
      ]
     },
     "execution_count": 49,
     "metadata": {},
     "output_type": "execute_result"
    }
   ],
   "source": [
    "num_epochs=10\n",
    "model.fit(train_data,epochs=num_epochs,validation_data=(validation_inputs,validation_targets),verbose=2)"
   ]
  },
  {
   "cell_type": "code",
   "execution_count": 50,
   "id": "894f3ca0",
   "metadata": {},
   "outputs": [
    {
     "name": "stdout",
     "output_type": "stream",
     "text": [
      "1/1 [==============================] - 0s 157ms/step - loss: 0.0758 - accuracy: 0.9809\n",
      "0.07582874596118927\n",
      "0.98089998960495\n"
     ]
    }
   ],
   "source": [
    "#testing the model\n",
    "test_loss,test_accuracy=model.evaluate(test_data)\n",
    "print(test_loss)\n",
    "print(test_accuracy)"
   ]
  },
  {
   "cell_type": "code",
   "execution_count": null,
   "id": "35b2a33e",
   "metadata": {},
   "outputs": [],
   "source": []
  }
 ],
 "metadata": {
  "kernelspec": {
   "display_name": "Python 3 (ipykernel)",
   "language": "python",
   "name": "python3"
  },
  "language_info": {
   "codemirror_mode": {
    "name": "ipython",
    "version": 3
   },
   "file_extension": ".py",
   "mimetype": "text/x-python",
   "name": "python",
   "nbconvert_exporter": "python",
   "pygments_lexer": "ipython3",
   "version": "3.9.13"
  }
 },
 "nbformat": 4,
 "nbformat_minor": 5
}
